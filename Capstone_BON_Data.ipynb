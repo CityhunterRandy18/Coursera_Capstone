{
    "nbformat_minor": 1, 
    "cells": [
        {
            "source": "# Peer-graded Assignment: Capstone Project - The Battle of Neighborhoods (Week 1)_Contd", 
            "cell_type": "markdown", 
            "metadata": {
                "collapsed": true
            }
        }, 
        {
            "source": "## Data", 
            "cell_type": "markdown", 
            "metadata": {}
        }, 
        {
            "source": "The objective is to find the best locations for opening the new Indian restaurant:\n\n\u2022\t**Data 1:** so we are going to analyze the dataset corresponding to New York Neighborhoods. Neighborhood has a total of 5 boroughs and 306 neighborhoods. In order to segement the neighborhoods and explore them, we will essentially need a dataset that contains the 5 boroughs and the neighborhoods that exist in each borough as well as the the latitude and logitude coordinates of each neighborhood. \nThis dataset exists for free at the NYU Spatial Data Repository. Link to the dataset is:\nhttps://geo.nyu.edu/catalog/nyu_2451_34572\n\n\u2022\t**Data 2:** Newyork city geographical coordinates data will be utilized as input for the Foursquare API, that will be leveraged to provision venues information for each neighborhood.We will use the Foursquare API to explore neighborhoods in New York City. The below is From Foursquare Venues Categories - https://developer.foursquare.com/docs/resources/categories\n\nCategory \"Indian\" cuisine's id: 4bf58dd8d48988d10f941735\n", 
            "cell_type": "markdown", 
            "metadata": {}
        }, 
        {
            "execution_count": null, 
            "cell_type": "code", 
            "metadata": {}, 
            "outputs": [], 
            "source": ""
        }
    ], 
    "metadata": {
        "kernelspec": {
            "display_name": "Python 3.5", 
            "name": "python3", 
            "language": "python"
        }, 
        "language_info": {
            "mimetype": "text/x-python", 
            "nbconvert_exporter": "python", 
            "version": "3.5.5", 
            "name": "python", 
            "file_extension": ".py", 
            "pygments_lexer": "ipython3", 
            "codemirror_mode": {
                "version": 3, 
                "name": "ipython"
            }
        }
    }, 
    "nbformat": 4
}